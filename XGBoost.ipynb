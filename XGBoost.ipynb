{
  "nbformat": 4,
  "nbformat_minor": 0,
  "metadata": {
    "colab": {
      "provenance": [],
      "authorship_tag": "ABX9TyPOqqjjHCWVWmTO7YU50ih/",
      "include_colab_link": true
    },
    "kernelspec": {
      "name": "python3",
      "display_name": "Python 3"
    },
    "language_info": {
      "name": "python"
    }
  },
  "cells": [
    {
      "cell_type": "markdown",
      "metadata": {
        "id": "view-in-github",
        "colab_type": "text"
      },
      "source": [
        "<a href=\"https://colab.research.google.com/github/dmsandipan/ML_Models/blob/main/XGBoost.ipynb\" target=\"_parent\"><img src=\"https://colab.research.google.com/assets/colab-badge.svg\" alt=\"Open In Colab\"/></a>"
      ]
    },
    {
      "cell_type": "code",
      "execution_count": null,
      "metadata": {
        "id": "AtJGV2wiYofj"
      },
      "outputs": [],
      "source": [
        "#creating deepcopy of model instances\n",
        "from copy import deepcopy\n",
        "\n",
        "#array manipulations\n",
        "import numpy as np\n",
        "\n",
        "#dataframe and its manipulations\n",
        "import pandas as pd\n",
        "\n",
        "#plotting\n",
        "import matplotlib as mpl\n",
        "import matplotlib.pyplot as plt\n",
        "import seaborn as sns\n",
        "\n",
        "#selected plotting functions\n",
        "from statsmodels.graphics.tsaplots import plot_acf,plot_pacf\n",
        "\n",
        "#classes for grid search and cross-validation, function for splitting data and evaluating models\n",
        "from sklearn.model_selection import GridSearchCV,RandomizedSearchCV,train_test_split\n",
        "from sklearn.metrics import accuracy_score,f1_score,roc_auc_score,confusion_matrix,roc_curve\n",
        "\n",
        "#XGBoost library\n",
        "import xgboost as xgb\n",
        "\n",
        "#Python standard libraries\n",
        "import time\n",
        "import warnings\n",
        "\n",
        "#setting default resolution of figures\n",
        "mpl.rcParams['figure.dpi'] = 200"
      ]
    },
    {
      "cell_type": "code",
      "source": [
        "#loading data into dataframe obejcts\n",
        "df_train = pd.read_csv(\"train.csv\")\n",
        "df_test = pd.read_csv(\"test.csv\")"
      ],
      "metadata": {
        "id": "8xfmYhkT9UK4"
      },
      "execution_count": null,
      "outputs": []
    },
    {
      "cell_type": "code",
      "source": [
        "from google.colab import drive\n",
        "\n",
        "drive.mount('/content/gdrive/', force_remount=True)\n"
      ],
      "metadata": {
        "colab": {
          "base_uri": "https://localhost:8080/"
        },
        "id": "jVk9U2Oa9zsp",
        "outputId": "17da446f-7c91-45bc-86a5-9587e446bc81"
      },
      "execution_count": null,
      "outputs": [
        {
          "output_type": "stream",
          "name": "stdout",
          "text": [
            "Mounted at /content/gdrive/\n"
          ]
        }
      ]
    },
    {
      "cell_type": "code",
      "source": [
        "%cd gdrive/MyDrive"
      ],
      "metadata": {
        "colab": {
          "base_uri": "https://localhost:8080/"
        },
        "id": "qiqqrP56911h",
        "outputId": "93ddf548-2adb-4ae6-ae18-e2278f6e882d"
      },
      "execution_count": null,
      "outputs": [
        {
          "output_type": "stream",
          "name": "stdout",
          "text": [
            "/content/gdrive/MyDrive\n"
          ]
        }
      ]
    },
    {
      "cell_type": "code",
      "source": [
        "df_train.head()"
      ],
      "metadata": {
        "colab": {
          "base_uri": "https://localhost:8080/",
          "height": 297
        },
        "id": "OmFrMIfP-PEB",
        "outputId": "54f2c7e3-a30c-45dd-c692-4e3bc5259048"
      },
      "execution_count": null,
      "outputs": [
        {
          "output_type": "execute_result",
          "data": {
            "text/plain": [
              "   class  lepton_pT  lepton_eta  lepton_phi  missing_energy_magnitude  \\\n",
              "0      1   0.907542    0.329147    0.359412                  1.497970   \n",
              "1      1   0.798835    1.470639   -1.635975                  0.453773   \n",
              "2      0   1.344385   -0.876626    0.935913                  1.992050   \n",
              "3      0   1.595839   -0.607811    0.007075                  1.818450   \n",
              "4      1   0.409391   -1.884684   -1.027292                  1.672452   \n",
              "\n",
              "   missing_energy_phi    jet1pt   jet1eta   jet1phi  jet1b.tag  ...   jet4phi  \\\n",
              "0           -0.313010  1.095531 -0.557525 -1.588230   2.173076  ... -0.000819   \n",
              "1            0.425629  1.104875  1.282322  1.381664   0.000000  ...  0.900461   \n",
              "2            0.882454  1.786066 -1.646778 -0.942383   0.000000  ... -1.360356   \n",
              "3           -0.111906  0.847550 -0.566437  1.581239   2.173076  ... -1.274345   \n",
              "4           -1.604598  1.338015  0.055427  0.013466   2.173076  ...  1.377130   \n",
              "\n",
              "   jet4b.tag      m_jj     m_jjj      m_lv     m_jlv      m_bb     m_wbb  \\\n",
              "0   0.000000  0.302220  0.833048  0.985700  0.978098  0.779732  0.992356   \n",
              "1   0.000000  0.909753  1.108330  0.985692  0.951331  0.803252  0.865924   \n",
              "2   0.000000  0.946652  1.028704  0.998656  0.728281  0.869200  1.026736   \n",
              "3   3.101961  0.823761  0.938191  0.971758  0.789176  0.430553  0.961357   \n",
              "4   3.101961  0.869418  1.222083  1.000627  0.545045  0.698653  0.977314   \n",
              "\n",
              "     m_wwbb  id  \n",
              "0  0.798343   1  \n",
              "1  0.780118   2  \n",
              "2  0.957904   3  \n",
              "3  0.957818   4  \n",
              "4  0.828786   5  \n",
              "\n",
              "[5 rows x 30 columns]"
            ],
            "text/html": [
              "\n",
              "  <div id=\"df-3146cb75-782d-46e4-a97d-373f5ea338ab\">\n",
              "    <div class=\"colab-df-container\">\n",
              "      <div>\n",
              "<style scoped>\n",
              "    .dataframe tbody tr th:only-of-type {\n",
              "        vertical-align: middle;\n",
              "    }\n",
              "\n",
              "    .dataframe tbody tr th {\n",
              "        vertical-align: top;\n",
              "    }\n",
              "\n",
              "    .dataframe thead th {\n",
              "        text-align: right;\n",
              "    }\n",
              "</style>\n",
              "<table border=\"1\" class=\"dataframe\">\n",
              "  <thead>\n",
              "    <tr style=\"text-align: right;\">\n",
              "      <th></th>\n",
              "      <th>class</th>\n",
              "      <th>lepton_pT</th>\n",
              "      <th>lepton_eta</th>\n",
              "      <th>lepton_phi</th>\n",
              "      <th>missing_energy_magnitude</th>\n",
              "      <th>missing_energy_phi</th>\n",
              "      <th>jet1pt</th>\n",
              "      <th>jet1eta</th>\n",
              "      <th>jet1phi</th>\n",
              "      <th>jet1b.tag</th>\n",
              "      <th>...</th>\n",
              "      <th>jet4phi</th>\n",
              "      <th>jet4b.tag</th>\n",
              "      <th>m_jj</th>\n",
              "      <th>m_jjj</th>\n",
              "      <th>m_lv</th>\n",
              "      <th>m_jlv</th>\n",
              "      <th>m_bb</th>\n",
              "      <th>m_wbb</th>\n",
              "      <th>m_wwbb</th>\n",
              "      <th>id</th>\n",
              "    </tr>\n",
              "  </thead>\n",
              "  <tbody>\n",
              "    <tr>\n",
              "      <th>0</th>\n",
              "      <td>1</td>\n",
              "      <td>0.907542</td>\n",
              "      <td>0.329147</td>\n",
              "      <td>0.359412</td>\n",
              "      <td>1.497970</td>\n",
              "      <td>-0.313010</td>\n",
              "      <td>1.095531</td>\n",
              "      <td>-0.557525</td>\n",
              "      <td>-1.588230</td>\n",
              "      <td>2.173076</td>\n",
              "      <td>...</td>\n",
              "      <td>-0.000819</td>\n",
              "      <td>0.000000</td>\n",
              "      <td>0.302220</td>\n",
              "      <td>0.833048</td>\n",
              "      <td>0.985700</td>\n",
              "      <td>0.978098</td>\n",
              "      <td>0.779732</td>\n",
              "      <td>0.992356</td>\n",
              "      <td>0.798343</td>\n",
              "      <td>1</td>\n",
              "    </tr>\n",
              "    <tr>\n",
              "      <th>1</th>\n",
              "      <td>1</td>\n",
              "      <td>0.798835</td>\n",
              "      <td>1.470639</td>\n",
              "      <td>-1.635975</td>\n",
              "      <td>0.453773</td>\n",
              "      <td>0.425629</td>\n",
              "      <td>1.104875</td>\n",
              "      <td>1.282322</td>\n",
              "      <td>1.381664</td>\n",
              "      <td>0.000000</td>\n",
              "      <td>...</td>\n",
              "      <td>0.900461</td>\n",
              "      <td>0.000000</td>\n",
              "      <td>0.909753</td>\n",
              "      <td>1.108330</td>\n",
              "      <td>0.985692</td>\n",
              "      <td>0.951331</td>\n",
              "      <td>0.803252</td>\n",
              "      <td>0.865924</td>\n",
              "      <td>0.780118</td>\n",
              "      <td>2</td>\n",
              "    </tr>\n",
              "    <tr>\n",
              "      <th>2</th>\n",
              "      <td>0</td>\n",
              "      <td>1.344385</td>\n",
              "      <td>-0.876626</td>\n",
              "      <td>0.935913</td>\n",
              "      <td>1.992050</td>\n",
              "      <td>0.882454</td>\n",
              "      <td>1.786066</td>\n",
              "      <td>-1.646778</td>\n",
              "      <td>-0.942383</td>\n",
              "      <td>0.000000</td>\n",
              "      <td>...</td>\n",
              "      <td>-1.360356</td>\n",
              "      <td>0.000000</td>\n",
              "      <td>0.946652</td>\n",
              "      <td>1.028704</td>\n",
              "      <td>0.998656</td>\n",
              "      <td>0.728281</td>\n",
              "      <td>0.869200</td>\n",
              "      <td>1.026736</td>\n",
              "      <td>0.957904</td>\n",
              "      <td>3</td>\n",
              "    </tr>\n",
              "    <tr>\n",
              "      <th>3</th>\n",
              "      <td>0</td>\n",
              "      <td>1.595839</td>\n",
              "      <td>-0.607811</td>\n",
              "      <td>0.007075</td>\n",
              "      <td>1.818450</td>\n",
              "      <td>-0.111906</td>\n",
              "      <td>0.847550</td>\n",
              "      <td>-0.566437</td>\n",
              "      <td>1.581239</td>\n",
              "      <td>2.173076</td>\n",
              "      <td>...</td>\n",
              "      <td>-1.274345</td>\n",
              "      <td>3.101961</td>\n",
              "      <td>0.823761</td>\n",
              "      <td>0.938191</td>\n",
              "      <td>0.971758</td>\n",
              "      <td>0.789176</td>\n",
              "      <td>0.430553</td>\n",
              "      <td>0.961357</td>\n",
              "      <td>0.957818</td>\n",
              "      <td>4</td>\n",
              "    </tr>\n",
              "    <tr>\n",
              "      <th>4</th>\n",
              "      <td>1</td>\n",
              "      <td>0.409391</td>\n",
              "      <td>-1.884684</td>\n",
              "      <td>-1.027292</td>\n",
              "      <td>1.672452</td>\n",
              "      <td>-1.604598</td>\n",
              "      <td>1.338015</td>\n",
              "      <td>0.055427</td>\n",
              "      <td>0.013466</td>\n",
              "      <td>2.173076</td>\n",
              "      <td>...</td>\n",
              "      <td>1.377130</td>\n",
              "      <td>3.101961</td>\n",
              "      <td>0.869418</td>\n",
              "      <td>1.222083</td>\n",
              "      <td>1.000627</td>\n",
              "      <td>0.545045</td>\n",
              "      <td>0.698653</td>\n",
              "      <td>0.977314</td>\n",
              "      <td>0.828786</td>\n",
              "      <td>5</td>\n",
              "    </tr>\n",
              "  </tbody>\n",
              "</table>\n",
              "<p>5 rows × 30 columns</p>\n",
              "</div>\n",
              "      <button class=\"colab-df-convert\" onclick=\"convertToInteractive('df-3146cb75-782d-46e4-a97d-373f5ea338ab')\"\n",
              "              title=\"Convert this dataframe to an interactive table.\"\n",
              "              style=\"display:none;\">\n",
              "        \n",
              "  <svg xmlns=\"http://www.w3.org/2000/svg\" height=\"24px\"viewBox=\"0 0 24 24\"\n",
              "       width=\"24px\">\n",
              "    <path d=\"M0 0h24v24H0V0z\" fill=\"none\"/>\n",
              "    <path d=\"M18.56 5.44l.94 2.06.94-2.06 2.06-.94-2.06-.94-.94-2.06-.94 2.06-2.06.94zm-11 1L8.5 8.5l.94-2.06 2.06-.94-2.06-.94L8.5 2.5l-.94 2.06-2.06.94zm10 10l.94 2.06.94-2.06 2.06-.94-2.06-.94-.94-2.06-.94 2.06-2.06.94z\"/><path d=\"M17.41 7.96l-1.37-1.37c-.4-.4-.92-.59-1.43-.59-.52 0-1.04.2-1.43.59L10.3 9.45l-7.72 7.72c-.78.78-.78 2.05 0 2.83L4 21.41c.39.39.9.59 1.41.59.51 0 1.02-.2 1.41-.59l7.78-7.78 2.81-2.81c.8-.78.8-2.07 0-2.86zM5.41 20L4 18.59l7.72-7.72 1.47 1.35L5.41 20z\"/>\n",
              "  </svg>\n",
              "      </button>\n",
              "      \n",
              "  <style>\n",
              "    .colab-df-container {\n",
              "      display:flex;\n",
              "      flex-wrap:wrap;\n",
              "      gap: 12px;\n",
              "    }\n",
              "\n",
              "    .colab-df-convert {\n",
              "      background-color: #E8F0FE;\n",
              "      border: none;\n",
              "      border-radius: 50%;\n",
              "      cursor: pointer;\n",
              "      display: none;\n",
              "      fill: #1967D2;\n",
              "      height: 32px;\n",
              "      padding: 0 0 0 0;\n",
              "      width: 32px;\n",
              "    }\n",
              "\n",
              "    .colab-df-convert:hover {\n",
              "      background-color: #E2EBFA;\n",
              "      box-shadow: 0px 1px 2px rgba(60, 64, 67, 0.3), 0px 1px 3px 1px rgba(60, 64, 67, 0.15);\n",
              "      fill: #174EA6;\n",
              "    }\n",
              "\n",
              "    [theme=dark] .colab-df-convert {\n",
              "      background-color: #3B4455;\n",
              "      fill: #D2E3FC;\n",
              "    }\n",
              "\n",
              "    [theme=dark] .colab-df-convert:hover {\n",
              "      background-color: #434B5C;\n",
              "      box-shadow: 0px 1px 3px 1px rgba(0, 0, 0, 0.15);\n",
              "      filter: drop-shadow(0px 1px 2px rgba(0, 0, 0, 0.3));\n",
              "      fill: #FFFFFF;\n",
              "    }\n",
              "  </style>\n",
              "\n",
              "      <script>\n",
              "        const buttonEl =\n",
              "          document.querySelector('#df-3146cb75-782d-46e4-a97d-373f5ea338ab button.colab-df-convert');\n",
              "        buttonEl.style.display =\n",
              "          google.colab.kernel.accessAllowed ? 'block' : 'none';\n",
              "\n",
              "        async function convertToInteractive(key) {\n",
              "          const element = document.querySelector('#df-3146cb75-782d-46e4-a97d-373f5ea338ab');\n",
              "          const dataTable =\n",
              "            await google.colab.kernel.invokeFunction('convertToInteractive',\n",
              "                                                     [key], {});\n",
              "          if (!dataTable) return;\n",
              "\n",
              "          const docLinkHtml = 'Like what you see? Visit the ' +\n",
              "            '<a target=\"_blank\" href=https://colab.research.google.com/notebooks/data_table.ipynb>data table notebook</a>'\n",
              "            + ' to learn more about interactive tables.';\n",
              "          element.innerHTML = '';\n",
              "          dataTable['output_type'] = 'display_data';\n",
              "          await google.colab.output.renderOutput(dataTable, element);\n",
              "          const docLink = document.createElement('div');\n",
              "          docLink.innerHTML = docLinkHtml;\n",
              "          element.appendChild(docLink);\n",
              "        }\n",
              "      </script>\n",
              "    </div>\n",
              "  </div>\n",
              "  "
            ]
          },
          "metadata": {},
          "execution_count": 8
        }
      ]
    },
    {
      "cell_type": "code",
      "source": [
        "df_train.info()"
      ],
      "metadata": {
        "colab": {
          "base_uri": "https://localhost:8080/"
        },
        "id": "Fa8pPB8C-Y5z",
        "outputId": "395c5797-5ae0-436c-c001-cd5cce41bc3c"
      },
      "execution_count": null,
      "outputs": [
        {
          "output_type": "stream",
          "name": "stdout",
          "text": [
            "<class 'pandas.core.frame.DataFrame'>\n",
            "RangeIndex: 68636 entries, 0 to 68635\n",
            "Data columns (total 30 columns):\n",
            " #   Column                    Non-Null Count  Dtype  \n",
            "---  ------                    --------------  -----  \n",
            " 0   class                     68636 non-null  int64  \n",
            " 1   lepton_pT                 68636 non-null  float64\n",
            " 2   lepton_eta                68636 non-null  float64\n",
            " 3   lepton_phi                68636 non-null  float64\n",
            " 4   missing_energy_magnitude  68636 non-null  float64\n",
            " 5   missing_energy_phi        68636 non-null  float64\n",
            " 6   jet1pt                    68636 non-null  float64\n",
            " 7   jet1eta                   68636 non-null  float64\n",
            " 8   jet1phi                   68636 non-null  float64\n",
            " 9   jet1b.tag                 68636 non-null  float64\n",
            " 10  jet2pt                    68636 non-null  float64\n",
            " 11  jet2eta                   68636 non-null  float64\n",
            " 12  jet2phi                   68636 non-null  float64\n",
            " 13  jet2b.tag                 68636 non-null  float64\n",
            " 14  jet3pt                    68636 non-null  float64\n",
            " 15  jet3eta                   68636 non-null  float64\n",
            " 16  jet3phi                   68636 non-null  float64\n",
            " 17  jet3b.tag                 68636 non-null  float64\n",
            " 18  jet4pt                    68636 non-null  float64\n",
            " 19  jet4eta                   68636 non-null  float64\n",
            " 20  jet4phi                   68636 non-null  float64\n",
            " 21  jet4b.tag                 68636 non-null  float64\n",
            " 22  m_jj                      68636 non-null  float64\n",
            " 23  m_jjj                     68636 non-null  float64\n",
            " 24  m_lv                      68636 non-null  float64\n",
            " 25  m_jlv                     68636 non-null  float64\n",
            " 26  m_bb                      68636 non-null  float64\n",
            " 27  m_wbb                     68636 non-null  float64\n",
            " 28  m_wwbb                    68636 non-null  float64\n",
            " 29  id                        68636 non-null  int64  \n",
            "dtypes: float64(28), int64(2)\n",
            "memory usage: 15.7 MB\n"
          ]
        }
      ]
    },
    {
      "cell_type": "code",
      "source": [
        "#dropping id columns\n",
        "df_train.drop(df_train.columns[-1], axis=1, inplace=True)\n",
        "df_test.drop(df_test.columns[-1], axis=1, inplace=True)"
      ],
      "metadata": {
        "id": "4NeS2v7A-ctQ"
      },
      "execution_count": null,
      "outputs": []
    },
    {
      "cell_type": "code",
      "source": [
        "#train test split with randomization performed (although randomization is not necessary)\n",
        "X_train, X_test, y_train, y_test = train_test_split(df_train.iloc[:,1:], df_train.iloc[:,:1], test_size=0.2, random_state=122, stratify=df_train.iloc[:,:1])"
      ],
      "metadata": {
        "id": "tVPC1fiB-y6o"
      },
      "execution_count": null,
      "outputs": []
    },
    {
      "cell_type": "code",
      "source": [
        "missing_props = df_train.isna().mean(axis=0)"
      ],
      "metadata": {
        "id": "HRAQ_GNf-9qJ"
      },
      "execution_count": null,
      "outputs": []
    },
    {
      "cell_type": "code",
      "source": [
        "missing_props"
      ],
      "metadata": {
        "colab": {
          "base_uri": "https://localhost:8080/"
        },
        "id": "mmtomajY_oW2",
        "outputId": "acf3631d-c9e2-4fa9-aba6-5a3db3c68160"
      },
      "execution_count": null,
      "outputs": [
        {
          "output_type": "execute_result",
          "data": {
            "text/plain": [
              "class                       0.0\n",
              "lepton_pT                   0.0\n",
              "lepton_eta                  0.0\n",
              "lepton_phi                  0.0\n",
              "missing_energy_magnitude    0.0\n",
              "missing_energy_phi          0.0\n",
              "jet1pt                      0.0\n",
              "jet1eta                     0.0\n",
              "jet1phi                     0.0\n",
              "jet1b.tag                   0.0\n",
              "jet2pt                      0.0\n",
              "jet2eta                     0.0\n",
              "jet2phi                     0.0\n",
              "jet2b.tag                   0.0\n",
              "jet3pt                      0.0\n",
              "jet3eta                     0.0\n",
              "jet3phi                     0.0\n",
              "jet3b.tag                   0.0\n",
              "jet4pt                      0.0\n",
              "jet4eta                     0.0\n",
              "jet4phi                     0.0\n",
              "jet4b.tag                   0.0\n",
              "m_jj                        0.0\n",
              "m_jjj                       0.0\n",
              "m_lv                        0.0\n",
              "m_jlv                       0.0\n",
              "m_bb                        0.0\n",
              "m_wbb                       0.0\n",
              "m_wwbb                      0.0\n",
              "dtype: float64"
            ]
          },
          "metadata": {},
          "execution_count": 13
        }
      ]
    },
    {
      "cell_type": "code",
      "source": [
        "cat_cols = df_train.select_dtypes(exclude=\"number\").columns\n",
        "num_cols = df_train.select_dtypes(include=\"number\").columns"
      ],
      "metadata": {
        "id": "uyiLS8mj_q-n"
      },
      "execution_count": null,
      "outputs": []
    },
    {
      "cell_type": "code",
      "source": [
        "cat_cols"
      ],
      "metadata": {
        "colab": {
          "base_uri": "https://localhost:8080/"
        },
        "id": "D3nIwj96_6mw",
        "outputId": "679c6713-c959-4971-ac61-3eb4c19b96a8"
      },
      "execution_count": null,
      "outputs": [
        {
          "output_type": "execute_result",
          "data": {
            "text/plain": [
              "Index([], dtype='object')"
            ]
          },
          "metadata": {},
          "execution_count": 15
        }
      ]
    },
    {
      "cell_type": "code",
      "source": [
        "num_cols"
      ],
      "metadata": {
        "colab": {
          "base_uri": "https://localhost:8080/"
        },
        "id": "o50oSBpn_8mH",
        "outputId": "d499626a-4435-4d47-d55f-cc6ae9925c60"
      },
      "execution_count": null,
      "outputs": [
        {
          "output_type": "execute_result",
          "data": {
            "text/plain": [
              "Index(['class', 'lepton_pT', 'lepton_eta', 'lepton_phi',\n",
              "       'missing_energy_magnitude', 'missing_energy_phi', 'jet1pt', 'jet1eta',\n",
              "       'jet1phi', 'jet1b.tag', 'jet2pt', 'jet2eta', 'jet2phi', 'jet2b.tag',\n",
              "       'jet3pt', 'jet3eta', 'jet3phi', 'jet3b.tag', 'jet4pt', 'jet4eta',\n",
              "       'jet4phi', 'jet4b.tag', 'm_jj', 'm_jjj', 'm_lv', 'm_jlv', 'm_bb',\n",
              "       'm_wbb', 'm_wwbb'],\n",
              "      dtype='object')"
            ]
          },
          "metadata": {},
          "execution_count": 16
        }
      ]
    },
    {
      "cell_type": "code",
      "source": [
        "from sklearn.metrics import accuracy_score\n",
        "\n",
        "# Init classifier\n",
        "xgb_cl = xgb.XGBClassifier()\n",
        "\n",
        "# Fit\n",
        "xgb_cl.fit(X_train, y_train)\n",
        "\n",
        "# Predict\n",
        "preds = xgb_cl.predict(X_test)"
      ],
      "metadata": {
        "colab": {
          "base_uri": "https://localhost:8080/"
        },
        "id": "d0IuDd5L_-Xc",
        "outputId": "ba7f9615-2ff3-4c00-a3e9-277b633a7b88"
      },
      "execution_count": null,
      "outputs": [
        {
          "output_type": "stream",
          "name": "stderr",
          "text": [
            "/usr/local/lib/python3.8/dist-packages/sklearn/preprocessing/_label.py:98: DataConversionWarning: A column-vector y was passed when a 1d array was expected. Please change the shape of y to (n_samples, ), for example using ravel().\n",
            "  y = column_or_1d(y, warn=True)\n",
            "/usr/local/lib/python3.8/dist-packages/sklearn/preprocessing/_label.py:133: DataConversionWarning: A column-vector y was passed when a 1d array was expected. Please change the shape of y to (n_samples, ), for example using ravel().\n",
            "  y = column_or_1d(y, warn=True)\n"
          ]
        }
      ]
    },
    {
      "cell_type": "code",
      "source": [
        "accuracy_score(y_test, preds)"
      ],
      "metadata": {
        "colab": {
          "base_uri": "https://localhost:8080/"
        },
        "id": "HJPShGk2AOLV",
        "outputId": "5bcd1ff7-f8d4-435f-b3cc-fad34896c3fd"
      },
      "execution_count": null,
      "outputs": [
        {
          "output_type": "execute_result",
          "data": {
            "text/plain": [
              "0.71875"
            ]
          },
          "metadata": {},
          "execution_count": 18
        }
      ]
    },
    {
      "cell_type": "code",
      "source": [
        "xgb_cl"
      ],
      "metadata": {
        "colab": {
          "base_uri": "https://localhost:8080/"
        },
        "id": "IbPUSGcGAZ9i",
        "outputId": "f2747c7d-ec49-40a3-ac5f-d332b24c0681"
      },
      "execution_count": null,
      "outputs": [
        {
          "output_type": "execute_result",
          "data": {
            "text/plain": [
              "XGBClassifier()"
            ]
          },
          "metadata": {},
          "execution_count": 19
        }
      ]
    },
    {
      "cell_type": "code",
      "source": [
        "param_grid = {\n",
        "    \"max_depth\": [3, 4],\n",
        "    \"learning_rate\": [0.1, 0.01],\n",
        "    \"gamma\": [0, 0.25, 1],\n",
        "    \"reg_lambda\": [0, 1],\n",
        "    \"subsample\": [0.8],\n",
        "    \"colsample_bytree\": [0.5],\n",
        "}"
      ],
      "metadata": {
        "id": "2-mKUNVoAbjA"
      },
      "execution_count": null,
      "outputs": []
    },
    {
      "cell_type": "code",
      "source": [
        "from sklearn.model_selection import GridSearchCV\n",
        "\n",
        "# Init classifier\n",
        "xgb_cl = xgb.XGBClassifier(objective=\"binary:logistic\")\n",
        "\n",
        "# Init Grid Search\n",
        "grid_cv = GridSearchCV(xgb_cl, param_grid, n_jobs=-1, scoring=\"roc_auc\")\n",
        "\n",
        "# Fit\n",
        "_ = grid_cv.fit(X_train, y_train)"
      ],
      "metadata": {
        "colab": {
          "base_uri": "https://localhost:8080/"
        },
        "id": "b34vA4CmAnMo",
        "outputId": "a1fe4ade-3781-43ba-df67-28748428a352"
      },
      "execution_count": null,
      "outputs": [
        {
          "output_type": "stream",
          "name": "stderr",
          "text": [
            "/usr/local/lib/python3.8/dist-packages/sklearn/preprocessing/_label.py:98: DataConversionWarning: A column-vector y was passed when a 1d array was expected. Please change the shape of y to (n_samples, ), for example using ravel().\n",
            "  y = column_or_1d(y, warn=True)\n",
            "/usr/local/lib/python3.8/dist-packages/sklearn/preprocessing/_label.py:133: DataConversionWarning: A column-vector y was passed when a 1d array was expected. Please change the shape of y to (n_samples, ), for example using ravel().\n",
            "  y = column_or_1d(y, warn=True)\n"
          ]
        }
      ]
    },
    {
      "cell_type": "code",
      "source": [
        "grid_cv"
      ],
      "metadata": {
        "colab": {
          "base_uri": "https://localhost:8080/"
        },
        "id": "AQXXZuocA08r",
        "outputId": "7f377bdd-d99c-419e-a9e6-ac659d4e781b"
      },
      "execution_count": null,
      "outputs": [
        {
          "output_type": "execute_result",
          "data": {
            "text/plain": [
              "GridSearchCV(estimator=XGBClassifier(), n_jobs=-1,\n",
              "             param_grid={'colsample_bytree': [0.5], 'gamma': [0, 0.25, 1],\n",
              "                         'learning_rate': [0.1, 0.01], 'max_depth': [3, 4],\n",
              "                         'reg_lambda': [0, 1], 'subsample': [0.8]},\n",
              "             scoring='roc_auc')"
            ]
          },
          "metadata": {},
          "execution_count": 27
        }
      ]
    },
    {
      "cell_type": "code",
      "source": [
        "grid_cv.best_score_"
      ],
      "metadata": {
        "colab": {
          "base_uri": "https://localhost:8080/"
        },
        "id": "zhgd04KcEsy3",
        "outputId": "bf82690d-188c-43aa-c88f-91a7a159a75b"
      },
      "execution_count": null,
      "outputs": [
        {
          "output_type": "execute_result",
          "data": {
            "text/plain": [
              "0.7909248967243317"
            ]
          },
          "metadata": {},
          "execution_count": 28
        }
      ]
    },
    {
      "cell_type": "code",
      "source": [
        "grid_cv.best_params_"
      ],
      "metadata": {
        "colab": {
          "base_uri": "https://localhost:8080/"
        },
        "id": "oNovxULVE0VD",
        "outputId": "b5dd3172-d223-4bbc-fe22-d4b24d4cc266"
      },
      "execution_count": null,
      "outputs": [
        {
          "output_type": "execute_result",
          "data": {
            "text/plain": [
              "{'colsample_bytree': 0.5,\n",
              " 'gamma': 0.25,\n",
              " 'learning_rate': 0.1,\n",
              " 'max_depth': 4,\n",
              " 'reg_lambda': 1,\n",
              " 'subsample': 0.8}"
            ]
          },
          "metadata": {},
          "execution_count": 29
        }
      ]
    },
    {
      "cell_type": "code",
      "source": [
        "final_cl = xgb.XGBClassifier(\n",
        "    **grid_cv.best_params_,\n",
        "    objective=\"binary:logistic\"\n",
        ")"
      ],
      "metadata": {
        "id": "8WLKyGHjE3ig"
      },
      "execution_count": null,
      "outputs": []
    },
    {
      "cell_type": "code",
      "source": [
        "from sklearn.metrics import roc_auc_score\n",
        "\n",
        "_ = final_cl.fit(X_train, y_train)\n",
        "\n",
        "preds = final_cl.predict(X_test)"
      ],
      "metadata": {
        "colab": {
          "base_uri": "https://localhost:8080/"
        },
        "id": "dbCAfcXPFBCe",
        "outputId": "85ef65a7-f50b-49f6-a934-df2745e7f6a7"
      },
      "execution_count": null,
      "outputs": [
        {
          "output_type": "stream",
          "name": "stderr",
          "text": [
            "/usr/local/lib/python3.8/dist-packages/sklearn/preprocessing/_label.py:98: DataConversionWarning: A column-vector y was passed when a 1d array was expected. Please change the shape of y to (n_samples, ), for example using ravel().\n",
            "  y = column_or_1d(y, warn=True)\n",
            "/usr/local/lib/python3.8/dist-packages/sklearn/preprocessing/_label.py:133: DataConversionWarning: A column-vector y was passed when a 1d array was expected. Please change the shape of y to (n_samples, ), for example using ravel().\n",
            "  y = column_or_1d(y, warn=True)\n"
          ]
        }
      ]
    },
    {
      "cell_type": "code",
      "source": [
        "roc_auc_score(y_test, preds)"
      ],
      "metadata": {
        "colab": {
          "base_uri": "https://localhost:8080/"
        },
        "id": "nRnHqe6vFOR4",
        "outputId": "e32d3788-8ec1-419a-c682-b0ba47bed881"
      },
      "execution_count": null,
      "outputs": [
        {
          "output_type": "execute_result",
          "data": {
            "text/plain": [
              "0.7189742294174004"
            ]
          },
          "metadata": {},
          "execution_count": 41
        }
      ]
    },
    {
      "cell_type": "code",
      "source": [],
      "metadata": {
        "id": "-0jvpwnxFniH"
      },
      "execution_count": null,
      "outputs": []
    },
    {
      "cell_type": "code",
      "source": [
        "from matplotlib import pyplot\n",
        "print(final_cl.feature_importances_)\n",
        "# plot\n",
        "pyplot.bar(range(len(final_cl.feature_importances_)), final_cl.feature_importances_)\n",
        "pyplot.show()"
      ],
      "metadata": {
        "colab": {
          "base_uri": "https://localhost:8080/",
          "height": 798
        },
        "id": "8l2Up8DUFn6A",
        "outputId": "9523c3a2-d5b4-473c-f80b-638051a4a777"
      },
      "execution_count": null,
      "outputs": [
        {
          "output_type": "stream",
          "name": "stdout",
          "text": [
            "[0.03542661 0.01108949 0.00812429 0.03896153 0.00929792 0.06543775\n",
            " 0.01331064 0.00872631 0.04378772 0.04123272 0.01258929 0.01179422\n",
            " 0.02248921 0.02344522 0.0127502  0.00955948 0.02262094 0.0211142\n",
            " 0.01153845 0.0111967  0.01888661 0.03363335 0.08040221 0.025559\n",
            " 0.0656179  0.16031864 0.09335426 0.08773504]\n"
          ]
        },
        {
          "output_type": "display_data",
          "data": {
            "text/plain": [
              "<Figure size 1200x800 with 1 Axes>"
            ],
            "image/png": "[encoded data removed]"
          },
          "metadata": {
            "needs_background": "light"
          }
        }
      ]
    },
    {
      "cell_type": "code",
      "source": [
        "from xgboost import plot_importance\n",
        "plot_importance(final_cl)\n",
        "pyplot.show()"
      ],
      "metadata": {
        "colab": {
          "base_uri": "https://localhost:8080/",
          "height": 604
        },
        "id": "29QBnk0rGCRq",
        "outputId": "0c0ff606-8215-480d-cb58-9b4eb760d7b3"
      },
      "execution_count": null,
      "outputs": [
        {
          "output_type": "display_data",
          "data": {
            "text/plain": [
              "<Figure size 1200x800 with 1 Axes>"
            ],
            "image/png": "[encoded data removed]"
          },
          "metadata": {
            "needs_background": "light"
          }
        }
      ]
    },
    {
      "cell_type": "code",
      "source": [],
      "metadata": {
        "id": "An_nfRplGfoP"
      },
      "execution_count": null,
      "outputs": []
    }
  ]
}